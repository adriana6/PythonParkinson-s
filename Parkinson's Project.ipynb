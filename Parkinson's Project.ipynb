{
 "cells": [
  {
   "cell_type": "markdown",
   "metadata": {},
   "source": [
    "\n",
    "\n",
    "<img src=\"http://cdn2.hubspot.net/hubfs/650754/Stock_Images_(no_text)/parkinsons.jpg\" style=\"width:700px\">\n",
    "\n",
    "\n",
    "In this notebook we will study a Parkinson's Disease data set."
   ]
  },
  {
   "cell_type": "code",
   "execution_count": 1,
   "metadata": {},
   "outputs": [
    {
     "name": "stdout",
     "output_type": "stream",
     "text": [
      "Title: Parkinsons Disease Data Set\n",
      "\n",
      "Abstract: Oxford Parkinson's Disease Detection Dataset\n",
      "\n",
      "-----------------------------------------------------\t\n",
      "\n",
      "Data Set Characteristics: Multivariate\n",
      "Number of Instances: 197\n",
      "Area: Life\n",
      "Attribute Characteristics: Real\n",
      "Number of Attributes: 23\n",
      "Date Donated: 2008-06-26\n",
      "Associated Tasks: Classification\n",
      "Missing Values? N/A\n",
      "\n",
      "-----------------------------------------------------\t\n",
      "\n",
      "Source:\n",
      "\n",
      "The dataset was created by Max Little of the University of Oxford, in \n",
      "collaboration with the National Centre for Voice and Speech, Denver, \n",
      "Colorado, who recorded the speech signals. The original study published the \n",
      "feature extraction methods for general voice disorders.\n",
      "\n",
      "-----------------------------------------------------\n",
      "\n",
      "Data Set Information:\n",
      "\n",
      "This dataset is composed of a range of biomedical voice measurements from \n",
      "31 people, 23 with Parkinson's disease (PD). Each column in the table is a \n",
      "particular voice measure, and each row corresponds one of 195 voice \n",
      "recording from these individuals (\"name\" column). The main aim of the data \n",
      "is to discriminate healthy people from those with PD, according to \"status\" \n",
      "column which is set to 0 for healthy and 1 for PD.\n",
      "\n",
      "The data is in ASCII CSV format. The rows of the CSV file contain an \n",
      "instance corresponding to one voice recording. There are around six \n",
      "recordings per patient, the name of the patient is identified in the first \n",
      "column.For further information or to pass on comments, please contact Max \n",
      "Little (littlem '@' robots.ox.ac.uk).\n",
      "\n",
      "Further details are contained in the following reference -- if you use this \n",
      "dataset, please cite:\n",
      "Max A. Little, Patrick E. McSharry, Eric J. Hunter, Lorraine O. Ramig (2008), \n",
      "'Suitability of dysphonia measurements for telemonitoring of Parkinson's disease', \n",
      "IEEE Transactions on Biomedical Engineering (to appear).\n",
      "\n",
      "-----------------------------------------------------\n",
      "\n",
      "Attribute Information:\n",
      "\n",
      "Matrix column entries (attributes):\n",
      "name - ASCII subject name and recording number\n",
      "MDVP:Fo(Hz) - Average vocal fundamental frequency\n",
      "MDVP:Fhi(Hz) - Maximum vocal fundamental frequency\n",
      "MDVP:Flo(Hz) - Minimum vocal fundamental frequency\n",
      "MDVP:Jitter(%),MDVP:Jitter(Abs),MDVP:RAP,MDVP:PPQ,Jitter:DDP - Several \n",
      "measures of variation in fundamental frequency\n",
      "MDVP:Shimmer,MDVP:Shimmer(dB),Shimmer:APQ3,Shimmer:APQ5,MDVP:APQ,Shimmer:DDA - Several measures of variation in amplitude\n",
      "NHR,HNR - Two measures of ratio of noise to tonal components in the voice\n",
      "status - Health status of the subject (one) - Parkinson's, (zero) - healthy\n",
      "RPDE,D2 - Two nonlinear dynamical complexity measures\n",
      "DFA - Signal fractal scaling exponent\n",
      "spread1,spread2,PPE - Three nonlinear measures of fundamental frequency variation \n",
      "\n",
      "-----------------------------------------------------\n",
      "\n",
      "Citation Request:\n",
      "\n",
      "If you use this dataset, please cite the following paper: \n",
      "'Exploiting Nonlinear Recurrence and Fractal Scaling Properties for Voice Disorder Detection', \n",
      "Little MA, McSharry PE, Roberts SJ, Costello DAE, Moroz IM. \n",
      "BioMedical Engineering OnLine 2007, 6:23 (26 June 2007)\n",
      "\n",
      "\n",
      "\n"
     ]
    }
   ],
   "source": [
    "print(open('UCIMLR/Parkinsons/parkinsons.txt', 'r').read())"
   ]
  },
  {
   "cell_type": "markdown",
   "metadata": {},
   "source": [
    "## Loading in the libraries\n"
   ]
  },
  {
   "cell_type": "code",
   "execution_count": 2,
   "metadata": {},
   "outputs": [],
   "source": [
    "import numpy as np\n",
    "import pandas as pa\n",
    "import sklearn\n",
    "import matplotlib.pylab as py\n",
    "from mpl_toolkits.mplot3d import Axes3D\n",
    "from matplotlib.colors import ListedColormap\n",
    "\n",
    "%matplotlib inline"
   ]
  },
  {
   "cell_type": "markdown",
   "metadata": {},
   "source": [
    "## Introduction"
   ]
  },
  {
   "cell_type": "markdown",
   "metadata": {},
   "source": [
    "## Reading the data\n",
    "\n",
    "The first thing that you do with data is to take a a look at this, so let's begin our analysis by reading in the data.   This was not as trivial as we have originally thought since we kept running into errors.  The problem was that:\n",
    "\n",
    "<b> we needed to make sure the data was in the correct directory</b>\n",
    "\n",
    "The eaisiest thing to do is have the data in the same directory at the Jupyter notebook."
   ]
  },
  {
   "cell_type": "code",
   "execution_count": 3,
   "metadata": {},
   "outputs": [],
   "source": [
    "data = pa.read_csv('UCIMLR/Parkinsons/parkinsons.csv')"
   ]
  },
  {
   "cell_type": "code",
   "execution_count": 4,
   "metadata": {},
   "outputs": [
    {
     "data": {
      "text/html": [
       "<div>\n",
       "<style scoped>\n",
       "    .dataframe tbody tr th:only-of-type {\n",
       "        vertical-align: middle;\n",
       "    }\n",
       "\n",
       "    .dataframe tbody tr th {\n",
       "        vertical-align: top;\n",
       "    }\n",
       "\n",
       "    .dataframe thead th {\n",
       "        text-align: right;\n",
       "    }\n",
       "</style>\n",
       "<table border=\"1\" class=\"dataframe\">\n",
       "  <thead>\n",
       "    <tr style=\"text-align: right;\">\n",
       "      <th></th>\n",
       "      <th>MDVP:Fo(Hz)</th>\n",
       "      <th>MDVP:Fhi(Hz)</th>\n",
       "      <th>MDVP:Flo(Hz)</th>\n",
       "      <th>MDVP:Jitter(%)</th>\n",
       "      <th>MDVP:Jitter(Abs)</th>\n",
       "      <th>MDVP:RAP</th>\n",
       "      <th>MDVP:PPQ</th>\n",
       "      <th>Jitter:DDP</th>\n",
       "      <th>MDVP:Shimmer</th>\n",
       "      <th>MDVP:Shimmer(dB)</th>\n",
       "      <th>...</th>\n",
       "      <th>Shimmer:DDA</th>\n",
       "      <th>NHR</th>\n",
       "      <th>HNR</th>\n",
       "      <th>RPDE</th>\n",
       "      <th>DFA</th>\n",
       "      <th>spread1</th>\n",
       "      <th>spread2</th>\n",
       "      <th>D2</th>\n",
       "      <th>PPE</th>\n",
       "      <th>status</th>\n",
       "    </tr>\n",
       "  </thead>\n",
       "  <tbody>\n",
       "    <tr>\n",
       "      <th>0</th>\n",
       "      <td>119.992</td>\n",
       "      <td>157.302</td>\n",
       "      <td>74.997</td>\n",
       "      <td>0.00784</td>\n",
       "      <td>0.00007</td>\n",
       "      <td>0.00370</td>\n",
       "      <td>0.00554</td>\n",
       "      <td>0.01109</td>\n",
       "      <td>0.04374</td>\n",
       "      <td>0.426</td>\n",
       "      <td>...</td>\n",
       "      <td>0.06545</td>\n",
       "      <td>0.02211</td>\n",
       "      <td>21.033</td>\n",
       "      <td>0.414783</td>\n",
       "      <td>0.815285</td>\n",
       "      <td>-4.813031</td>\n",
       "      <td>0.266482</td>\n",
       "      <td>2.301442</td>\n",
       "      <td>0.284654</td>\n",
       "      <td>1</td>\n",
       "    </tr>\n",
       "    <tr>\n",
       "      <th>1</th>\n",
       "      <td>122.400</td>\n",
       "      <td>148.650</td>\n",
       "      <td>113.819</td>\n",
       "      <td>0.00968</td>\n",
       "      <td>0.00008</td>\n",
       "      <td>0.00465</td>\n",
       "      <td>0.00696</td>\n",
       "      <td>0.01394</td>\n",
       "      <td>0.06134</td>\n",
       "      <td>0.626</td>\n",
       "      <td>...</td>\n",
       "      <td>0.09403</td>\n",
       "      <td>0.01929</td>\n",
       "      <td>19.085</td>\n",
       "      <td>0.458359</td>\n",
       "      <td>0.819521</td>\n",
       "      <td>-4.075192</td>\n",
       "      <td>0.335590</td>\n",
       "      <td>2.486855</td>\n",
       "      <td>0.368674</td>\n",
       "      <td>1</td>\n",
       "    </tr>\n",
       "    <tr>\n",
       "      <th>2</th>\n",
       "      <td>116.682</td>\n",
       "      <td>131.111</td>\n",
       "      <td>111.555</td>\n",
       "      <td>0.01050</td>\n",
       "      <td>0.00009</td>\n",
       "      <td>0.00544</td>\n",
       "      <td>0.00781</td>\n",
       "      <td>0.01633</td>\n",
       "      <td>0.05233</td>\n",
       "      <td>0.482</td>\n",
       "      <td>...</td>\n",
       "      <td>0.08270</td>\n",
       "      <td>0.01309</td>\n",
       "      <td>20.651</td>\n",
       "      <td>0.429895</td>\n",
       "      <td>0.825288</td>\n",
       "      <td>-4.443179</td>\n",
       "      <td>0.311173</td>\n",
       "      <td>2.342259</td>\n",
       "      <td>0.332634</td>\n",
       "      <td>1</td>\n",
       "    </tr>\n",
       "    <tr>\n",
       "      <th>3</th>\n",
       "      <td>116.676</td>\n",
       "      <td>137.871</td>\n",
       "      <td>111.366</td>\n",
       "      <td>0.00997</td>\n",
       "      <td>0.00009</td>\n",
       "      <td>0.00502</td>\n",
       "      <td>0.00698</td>\n",
       "      <td>0.01505</td>\n",
       "      <td>0.05492</td>\n",
       "      <td>0.517</td>\n",
       "      <td>...</td>\n",
       "      <td>0.08771</td>\n",
       "      <td>0.01353</td>\n",
       "      <td>20.644</td>\n",
       "      <td>0.434969</td>\n",
       "      <td>0.819235</td>\n",
       "      <td>-4.117501</td>\n",
       "      <td>0.334147</td>\n",
       "      <td>2.405554</td>\n",
       "      <td>0.368975</td>\n",
       "      <td>1</td>\n",
       "    </tr>\n",
       "    <tr>\n",
       "      <th>4</th>\n",
       "      <td>116.014</td>\n",
       "      <td>141.781</td>\n",
       "      <td>110.655</td>\n",
       "      <td>0.01284</td>\n",
       "      <td>0.00011</td>\n",
       "      <td>0.00655</td>\n",
       "      <td>0.00908</td>\n",
       "      <td>0.01966</td>\n",
       "      <td>0.06425</td>\n",
       "      <td>0.584</td>\n",
       "      <td>...</td>\n",
       "      <td>0.10470</td>\n",
       "      <td>0.01767</td>\n",
       "      <td>19.649</td>\n",
       "      <td>0.417356</td>\n",
       "      <td>0.823484</td>\n",
       "      <td>-3.747787</td>\n",
       "      <td>0.234513</td>\n",
       "      <td>2.332180</td>\n",
       "      <td>0.410335</td>\n",
       "      <td>1</td>\n",
       "    </tr>\n",
       "  </tbody>\n",
       "</table>\n",
       "<p>5 rows × 23 columns</p>\n",
       "</div>"
      ],
      "text/plain": [
       "   MDVP:Fo(Hz)  MDVP:Fhi(Hz)  MDVP:Flo(Hz)  MDVP:Jitter(%)  MDVP:Jitter(Abs)  \\\n",
       "0      119.992       157.302        74.997         0.00784           0.00007   \n",
       "1      122.400       148.650       113.819         0.00968           0.00008   \n",
       "2      116.682       131.111       111.555         0.01050           0.00009   \n",
       "3      116.676       137.871       111.366         0.00997           0.00009   \n",
       "4      116.014       141.781       110.655         0.01284           0.00011   \n",
       "\n",
       "   MDVP:RAP  MDVP:PPQ  Jitter:DDP  MDVP:Shimmer  MDVP:Shimmer(dB)  ...  \\\n",
       "0   0.00370   0.00554     0.01109       0.04374             0.426  ...   \n",
       "1   0.00465   0.00696     0.01394       0.06134             0.626  ...   \n",
       "2   0.00544   0.00781     0.01633       0.05233             0.482  ...   \n",
       "3   0.00502   0.00698     0.01505       0.05492             0.517  ...   \n",
       "4   0.00655   0.00908     0.01966       0.06425             0.584  ...   \n",
       "\n",
       "   Shimmer:DDA      NHR     HNR      RPDE       DFA   spread1   spread2  \\\n",
       "0      0.06545  0.02211  21.033  0.414783  0.815285 -4.813031  0.266482   \n",
       "1      0.09403  0.01929  19.085  0.458359  0.819521 -4.075192  0.335590   \n",
       "2      0.08270  0.01309  20.651  0.429895  0.825288 -4.443179  0.311173   \n",
       "3      0.08771  0.01353  20.644  0.434969  0.819235 -4.117501  0.334147   \n",
       "4      0.10470  0.01767  19.649  0.417356  0.823484 -3.747787  0.234513   \n",
       "\n",
       "         D2       PPE  status  \n",
       "0  2.301442  0.284654       1  \n",
       "1  2.486855  0.368674       1  \n",
       "2  2.342259  0.332634       1  \n",
       "3  2.405554  0.368975       1  \n",
       "4  2.332180  0.410335       1  \n",
       "\n",
       "[5 rows x 23 columns]"
      ]
     },
     "execution_count": 4,
     "metadata": {},
     "output_type": "execute_result"
    }
   ],
   "source": [
    "data.head()"
   ]
  },
  {
   "cell_type": "markdown",
   "metadata": {},
   "source": [
    "The size of our data is:"
   ]
  },
  {
   "cell_type": "code",
   "execution_count": 6,
   "metadata": {},
   "outputs": [
    {
     "data": {
      "text/plain": [
       "(195, 23)"
      ]
     },
     "execution_count": 6,
     "metadata": {},
     "output_type": "execute_result"
    }
   ],
   "source": [
    "data.shape"
   ]
  },
  {
   "cell_type": "markdown",
   "metadata": {},
   "source": [
    "Which means we have 195 total measurements and each measurement has 23 values.  For example our first measurement is "
   ]
  },
  {
   "cell_type": "code",
   "execution_count": 7,
   "metadata": {},
   "outputs": [
    {
     "data": {
      "text/plain": [
       "MDVP:Fo(Hz)         119.992000\n",
       "MDVP:Fhi(Hz)        157.302000\n",
       "MDVP:Flo(Hz)         74.997000\n",
       "MDVP:Jitter(%)        0.007840\n",
       "MDVP:Jitter(Abs)      0.000070\n",
       "MDVP:RAP              0.003700\n",
       "MDVP:PPQ              0.005540\n",
       "Jitter:DDP            0.011090\n",
       "MDVP:Shimmer          0.043740\n",
       "MDVP:Shimmer(dB)      0.426000\n",
       "Shimmer:APQ3          0.021820\n",
       "Shimmer:APQ5          0.031300\n",
       "MDVP:APQ              0.029710\n",
       "Shimmer:DDA           0.065450\n",
       "NHR                   0.022110\n",
       "HNR                  21.033000\n",
       "RPDE                  0.414783\n",
       "DFA                   0.815285\n",
       "spread1              -4.813031\n",
       "spread2               0.266482\n",
       "D2                    2.301442\n",
       "PPE                   0.284654\n",
       "status                1.000000\n",
       "Name: 0, dtype: float64"
      ]
     },
     "execution_count": 7,
     "metadata": {},
     "output_type": "execute_result"
    }
   ],
   "source": [
    "data.iloc[0,:]"
   ]
  },
  {
   "cell_type": "markdown",
   "metadata": {},
   "source": [
    "Observe that we want to predict if a person has Parkinson's or not based on "
   ]
  }
 ],
 "metadata": {
  "kernelspec": {
   "display_name": "Python 3",
   "language": "python",
   "name": "python3"
  },
  "language_info": {
   "codemirror_mode": {
    "name": "ipython",
    "version": 3
   },
   "file_extension": ".py",
   "mimetype": "text/x-python",
   "name": "python",
   "nbconvert_exporter": "python",
   "pygments_lexer": "ipython3",
   "version": "3.7.3"
  }
 },
 "nbformat": 4,
 "nbformat_minor": 2
}
